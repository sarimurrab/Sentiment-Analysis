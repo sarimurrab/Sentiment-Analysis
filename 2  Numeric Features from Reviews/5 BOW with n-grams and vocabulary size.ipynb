{
 "cells": [
  {
   "cell_type": "markdown",
   "metadata": {},
   "source": [
    "# BOW with n-grams and vocabulary size\n"
   ]
  },
  {
   "cell_type": "code",
   "execution_count": 1,
   "metadata": {},
   "outputs": [
    {
     "data": {
      "text/plain": [
       "(100, 3)"
      ]
     },
     "execution_count": 1,
     "metadata": {},
     "output_type": "execute_result"
    }
   ],
   "source": [
    "import pandas as pd\n",
    "reviews = pd.read_csv(\"Amazon_reviews_sample.csv\")\n",
    "reviews= reviews[0:100]\n",
    "reviews.shape"
   ]
  },
  {
   "cell_type": "code",
   "execution_count": 2,
   "metadata": {},
   "outputs": [
    {
     "name": "stdout",
     "output_type": "stream",
     "text": [
      "   1980 style  aa batteries  aaa batteries  able to  about the  about this  \\\n",
      "0           0             0              0        0          0           0   \n",
      "1           0             0              0        0          0           0   \n",
      "2           0             0              0        0          0           0   \n",
      "3           0             0              0        0          0           0   \n",
      "4           0             0              0        0          0           0   \n",
      "\n",
      "   across the  after that  again the  ahead of   ...    you know  you look  \\\n",
      "0           0           0          0         0   ...           0         0   \n",
      "1           0           0          0         0   ...           0         0   \n",
      "2           0           0          0         0   ...           0         0   \n",
      "3           0           0          0         0   ...           0         0   \n",
      "4           0           0          0         0   ...           1         0   \n",
      "\n",
      "   you need  you should  you ve  you want  you will  your imagination  \\\n",
      "0         0           0       0         0         0                 0   \n",
      "1         0           0       0         0         0                 0   \n",
      "2         0           0       2         0         0                 0   \n",
      "3         0           0       0         0         0                 0   \n",
      "4         0           0       1         0         0                 0   \n",
      "\n",
      "   your money  yr old  \n",
      "0           0       0  \n",
      "1           0       0  \n",
      "2           0       0  \n",
      "3           0       0  \n",
      "4           0       0  \n",
      "\n",
      "[5 rows x 1000 columns]\n"
     ]
    }
   ],
   "source": [
    "#Import the vectorizer\n",
    "from sklearn.feature_extraction.text import CountVectorizer\n",
    "\n",
    "# Build the vectorizer, specify max features and fit\n",
    "vect = CountVectorizer(max_features=1000, ngram_range=(2, 2), max_df=500)\n",
    "vect.fit(reviews.review)\n",
    "\n",
    "# Transform the review\n",
    "X_review = vect.transform(reviews.review)\n",
    "\n",
    "# Create a DataFrame from the bow representation\n",
    "X_df = pd.DataFrame(X_review.toarray(), columns=vect.get_feature_names())\n",
    "print(X_df.head())"
   ]
  },
  {
   "cell_type": "code",
   "execution_count": null,
   "metadata": {},
   "outputs": [],
   "source": []
  }
 ],
 "metadata": {
  "kernelspec": {
   "display_name": "Python 3",
   "language": "python",
   "name": "python3"
  },
  "language_info": {
   "codemirror_mode": {
    "name": "ipython",
    "version": 3
   },
   "file_extension": ".py",
   "mimetype": "text/x-python",
   "name": "python",
   "nbconvert_exporter": "python",
   "pygments_lexer": "ipython3",
   "version": "3.7.1"
  }
 },
 "nbformat": 4,
 "nbformat_minor": 2
}
