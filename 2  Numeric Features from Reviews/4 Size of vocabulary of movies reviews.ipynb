{
 "cells": [
  {
   "cell_type": "code",
   "execution_count": 4,
   "metadata": {},
   "outputs": [
    {
     "data": {
      "text/plain": [
       "(100, 3)"
      ]
     },
     "execution_count": 4,
     "metadata": {},
     "output_type": "execute_result"
    }
   ],
   "source": [
    "import pandas as pd\n",
    "movies = pd.read_csv(\"Amazon_reviews_sample.csv\")\n",
    "movies= reviews[0:100]\n",
    "movies.shape\n"
   ]
  },
  {
   "cell_type": "code",
   "execution_count": 5,
   "metadata": {},
   "outputs": [
    {
     "name": "stdout",
     "output_type": "stream",
     "text": [
      "   about  after  all  also  an  and  any  are  as  at  ...   which  while  \\\n",
      "0      0      0    1     0   0    2    0    0   0   0  ...       0      0   \n",
      "1      0      0    0     0   0    3    1    1   0   0  ...       0      0   \n",
      "2      0      0    3     0   1    4    0    1   1   0  ...       1      0   \n",
      "3      0      0    0     0   0    9    0    1   0   0  ...       0      0   \n",
      "4      0      1    0     0   0    3    0    1   0   0  ...       0      0   \n",
      "\n",
      "   who  will  with  work  would  year  you  your  \n",
      "0    2     0     1     0      2     0    0     1  \n",
      "1    0     0     0     0      1     0    1     0  \n",
      "2    1     0     0     1      1     0    2     0  \n",
      "3    0     0     0     0      0     0    0     0  \n",
      "4    0     0     0     0      0     0    3     1  \n",
      "\n",
      "[5 rows x 100 columns]\n"
     ]
    }
   ],
   "source": [
    "from sklearn.feature_extraction.text import CountVectorizer \n",
    "\n",
    "# Build the vectorizer, specify size of vocabulary and fit\n",
    "vect = CountVectorizer(max_features=100)\n",
    "vect.fit(movies.review)\n",
    "\n",
    "# Transform the review column\n",
    "X_review = vect.transform(movies.review)\n",
    "# Create the bow representation\n",
    "X_df = pd.DataFrame(X_review.toarray(), columns=vect.get_feature_names())\n",
    "print(X_df.head())"
   ]
  },
  {
   "cell_type": "markdown",
   "metadata": {},
   "source": [
    "# Using the movies dataset, limit the size of the vocabulary to ignore terms which occur in less than 50 documents."
   ]
  },
  {
   "cell_type": "code",
   "execution_count": 6,
   "metadata": {},
   "outputs": [
    {
     "name": "stdout",
     "output_type": "stream",
     "text": [
      "   and  for  in  is  it  of  the  this  to\n",
      "0    2    1   1   0   5   2    5     1   2\n",
      "1    3    2   1   5   1   1    5     5   5\n",
      "2    4    1   1   2   3   6   11     3   2\n",
      "3    9    0   0   1   1   8    4     3   0\n",
      "4    3    0   0   2   4   1    9     1   0\n"
     ]
    }
   ],
   "source": [
    "# Build and fit the vectorizer\n",
    "vect = CountVectorizer(min_df=50)\n",
    "vect.fit(movies.review)\n",
    "\n",
    "# Transform the review column\n",
    "X_review = vect.transform(movies.review)\n",
    "# Create the bow representation\n",
    "X_df = pd.DataFrame(X_review.toarray(), columns=vect.get_feature_names())\n",
    "print(X_df.head())"
   ]
  },
  {
   "cell_type": "code",
   "execution_count": null,
   "metadata": {},
   "outputs": [],
   "source": []
  }
 ],
 "metadata": {
  "kernelspec": {
   "display_name": "Python 3",
   "language": "python",
   "name": "python3"
  },
  "language_info": {
   "codemirror_mode": {
    "name": "ipython",
    "version": 3
   },
   "file_extension": ".py",
   "mimetype": "text/x-python",
   "name": "python",
   "nbconvert_exporter": "python",
   "pygments_lexer": "ipython3",
   "version": "3.7.1"
  }
 },
 "nbformat": 4,
 "nbformat_minor": 2
}
